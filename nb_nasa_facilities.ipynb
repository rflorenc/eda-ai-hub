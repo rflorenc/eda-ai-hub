{
 "cells": [
  {
   "cell_type": "code",
   "execution_count": 1,
   "metadata": {
    "collapsed": false,
    "ExecuteTime": {
     "end_time": "2023-10-10T15:27:04.284649Z",
     "start_time": "2023-10-10T15:27:04.229837Z"
    }
   },
   "outputs": [],
   "source": [
    "import pandas as pd\n",
    "import matplotlib.pyplot as plt\n",
    "from matplotlib.ticker import MaxNLocator\n",
    "import seaborn as sns\n",
    "import datetime\n",
    "from ipyleaflet import Map, basemaps, Marker, basemap_to_tiles, Circle, Polyline\n",
    "from eda.data_loaders.csv_loader import CSVDataLoader\n",
    "from eda.data_analysis.data_analysis import DataAnalysis\n",
    "from eda.data_cleaning.data_cleaner import DataCleaning\n",
    "\n",
    "# load the world cities (nasadf) dataset\n",
    "loader = CSVDataLoader(datasets_dir='datasets')\n",
    "nasadf = loader.load_data(\"NASA_Facilities.csv\")\n",
    "\n",
    "# perform data analysis\n",
    "analysis = DataAnalysis(nasadf)\n",
    "\n",
    "# perform data cleaning\n",
    "cleaning = DataCleaning(nasadf)"
   ]
  },
  {
   "cell_type": "code",
   "execution_count": null,
   "outputs": [],
   "source": [
    "nasadf.hist(bins=30, figsize=(15,9), color='g')\n",
    "plt.show()"
   ],
   "metadata": {
    "collapsed": false
   }
  },
  {
   "cell_type": "code",
   "execution_count": 2,
   "metadata": {
    "collapsed": false,
    "ExecuteTime": {
     "end_time": "2023-10-07T10:04:28.174132Z",
     "start_time": "2023-10-07T10:04:28.157587Z"
    }
   },
   "outputs": [
    {
     "name": "stdout",
     "output_type": "stream",
     "text": [
      "self.df.head(10)\n",
      "                         Center Center Search Status  \\\n",
      "0          Kennedy Space Center               Public   \n",
      "1       Langley Research Center               Public   \n",
      "2          Kennedy Space Center               Public   \n",
      "3  Marshall Space Flight Center               Public   \n",
      "4  Marshall Space Flight Center               Public   \n",
      "5          Kennedy Space Center               Public   \n",
      "6          Kennedy Space Center               Public   \n",
      "7            Jet Propulsion Lab               Public   \n",
      "8            Jet Propulsion Lab               Public   \n",
      "9          Kennedy Space Center               Public   \n",
      "\n",
      "                                           Facility  FacilityURL  Occupied  \\\n",
      "0                        Control Room 2/1726/HGR-S           NaN    1957.0   \n",
      "1             Micometeroid/LDEF Analysis Laboratory          NaN    1965.0   \n",
      "2     SRM Rotation and Processing Facility/K6-0494           NaN    1984.0   \n",
      "3        ET WTC - 14-Inch Trisonic Wind Tunnel 4732          NaN    1968.0   \n",
      "4   EB LAB Control Moment Gyro Test & Eval Fac 4487          NaN       NaN   \n",
      "5  HMF South Processing Bldg/West High Bay/M7-1212           NaN    1964.0   \n",
      "6                Central Supply Warehouse (M6-744)           NaN    1964.0   \n",
      "7                                    DSS 46 Antenna          NaN    1963.0   \n",
      "8                                    DSS 65 Antenna          NaN    1964.0   \n",
      "9                    Utility Annex/K6-947/VAB AREA           NaN    1966.0   \n",
      "\n",
      "     Status URL Link             Record Date             Last Update Country  \\\n",
      "0       NaN      NaN  03/01/1996 12:00:00 AM  06/22/2015 12:00:00 AM      US   \n",
      "1    Active      NaN  03/01/1996 12:00:00 AM  02/25/2013 12:00:00 AM      US   \n",
      "2       NaN      NaN  03/01/1996 12:00:00 AM  06/22/2015 12:00:00 AM      US   \n",
      "3    Active      NaN  03/01/1996 12:00:00 AM  03/31/2014 12:00:00 AM      US   \n",
      "4    Active      NaN  06/11/1996 12:00:00 AM  05/30/2014 12:00:00 AM      US   \n",
      "5       NaN      NaN  03/01/1996 12:00:00 AM  06/22/2015 12:00:00 AM      US   \n",
      "6       NaN      NaN  03/01/1996 12:00:00 AM  06/22/2015 12:00:00 AM      US   \n",
      "7  Inactive      NaN  03/01/1996 12:00:00 AM  08/07/2013 12:00:00 AM      US   \n",
      "8    Active      NaN  03/01/1996 12:00:00 AM  08/07/2013 12:00:00 AM      US   \n",
      "9       NaN      NaN  03/01/1996 12:00:00 AM  06/22/2015 12:00:00 AM      US   \n",
      "\n",
      "          Contact         Phone                          Location  \\\n",
      "0  Sheryl Chaffee  321-867-8047      32899(28.538331, -81.378879)   \n",
      "1  Sherry Johnson  757.864-3848  23681-2199(37.08681, -76.376649)   \n",
      "2  Sheryl Chaffee  321-867-8047      32899(28.538331, -81.378879)   \n",
      "3      Pam Caruso  256-544-7795      35812(34.729538, -86.585283)   \n",
      "4      Pam Caruso  256-544-7795      35812(34.729538, -86.585283)   \n",
      "5  Sheryl Chaffee  321-867-8047      32899(28.538331, -81.378879)   \n",
      "6  Sheryl Chaffee  321-867-8047      32899(28.538331, -81.378879)   \n",
      "7       Gary Gray  818.354.0701     91109(34.178124, -118.150662)   \n",
      "8       Gary Gray  818.354.0701     91109(34.178124, -118.150662)   \n",
      "9  Sheryl Chaffee  321-867-8047      32899(28.538331, -81.378879)   \n",
      "\n",
      "                   City State     Zipcode  \n",
      "0  Kennedy Space Center    FL       32899  \n",
      "1               Hampton    VA  23681-2199  \n",
      "2  Kennedy Space Center    FL       32899  \n",
      "3            Huntsville    AL       35812  \n",
      "4            Huntsville    AL       35812  \n",
      "5  Kennedy Space Center    FL       32899  \n",
      "6  Kennedy Space Center    FL       32899  \n",
      "7              PASADENA    CA       91109  \n",
      "8              PASADENA    CA       91109  \n",
      "9  Kennedy Space Center    FL       32899  \n",
      "self.df.info()\n",
      "<class 'pandas.core.frame.DataFrame'>\n",
      "RangeIndex: 485 entries, 0 to 484\n",
      "Data columns (total 16 columns):\n",
      " #   Column                Non-Null Count  Dtype  \n",
      "---  ------                --------------  -----  \n",
      " 0   Center                485 non-null    object \n",
      " 1   Center Search Status  485 non-null    object \n",
      " 2   Facility              485 non-null    object \n",
      " 3   FacilityURL           0 non-null      float64\n",
      " 4   Occupied              393 non-null    float64\n",
      " 5   Status                399 non-null    object \n",
      " 6   URL Link              145 non-null    object \n",
      " 7   Record Date           485 non-null    object \n",
      " 8   Last Update           479 non-null    object \n",
      " 9   Country               485 non-null    object \n",
      " 10  Contact               485 non-null    object \n",
      " 11  Phone                 485 non-null    object \n",
      " 12  Location              485 non-null    object \n",
      " 13  City                  485 non-null    object \n",
      " 14  State                 485 non-null    object \n",
      " 15  Zipcode               485 non-null    object \n",
      "dtypes: float64(2), object(14)\n",
      "memory usage: 60.8+ KB\n",
      "\n",
      "self.df.describe()\n",
      "       FacilityURL     Occupied\n",
      "count          0.0   393.000000\n",
      "mean           NaN  1967.870229\n",
      "std            NaN    14.952508\n",
      "min            NaN  1940.000000\n",
      "25%            NaN  1959.000000\n",
      "50%            NaN  1965.000000\n",
      "75%            NaN  1977.000000\n",
      "max            NaN  2012.000000\n",
      "\n",
      "self.df.shape\n",
      "(485, 16)\n",
      "\n",
      "self.check_missing_values()\n",
      "Center                    0\n",
      "Center Search Status      0\n",
      "Facility                  0\n",
      "FacilityURL             485\n",
      "Occupied                 92\n",
      "Status                   86\n",
      "URL Link                340\n",
      "Record Date               0\n",
      "Last Update               6\n",
      "Country                   0\n",
      "Contact                   0\n",
      "Phone                     0\n",
      "Location                  0\n",
      "City                      0\n",
      "State                     0\n",
      "Zipcode                   0\n",
      "dtype: int64\n",
      "\n",
      "self.check_dups_and_value_counts()\n",
      "Duplicates for dataframe:\n",
      "0\n",
      "\n",
      "Value Counts for dataframe:\n",
      "Series([], Name: count, dtype: int64)\n",
      "\n",
      "check_dups_and_value_counts_col(col)\n",
      "Duplicates for column 'Center':\n",
      "472\n",
      "\n",
      "Value Counts for column 'Center':\n",
      "Center\n",
      "Marshall Space Flight Center         136\n",
      "Kennedy Space Center                  84\n",
      "Langley Research Center               50\n",
      "Glenn Research Center                 42\n",
      "Jet Propulsion Lab                    37\n",
      "Goddard Space Flight Center           32\n",
      "Stennis Space Center                  29\n",
      "NASA Aircraft Management Division     23\n",
      "Michoud Assembly Facility             17\n",
      "Ames Research Center                  12\n",
      "Wallops Flight Facility/GSFC          10\n",
      "Armstrong Flight Research Center       7\n",
      "Johnson Space Center                   6\n",
      "Name: count, dtype: int64\n",
      "Duplicates for column 'Center Search Status':\n",
      "484\n",
      "\n",
      "Value Counts for column 'Center Search Status':\n",
      "Center Search Status\n",
      "Public    485\n",
      "Name: count, dtype: int64\n",
      "Duplicates for column 'Facility':\n",
      "0\n",
      "\n",
      "Value Counts for column 'Facility':\n",
      "Facility\n",
      "Control Room 2/1726/HGR-S                            1\n",
      "Microelectronics Development Lab (B-1238A)           1\n",
      "20-Inch Mach CF4 Tunnel                              1\n",
      "LCC Control Room 3/FR-3/Third Floor/K6-900           1\n",
      "Component Painting Facility                          1\n",
      "                                                    ..\n",
      "Propulsion Systems Laboratory, Bldg. 125             1\n",
      "Chemical Cleaning Facility                           1\n",
      "Bldg. 703 Mirror Coating Facility                    1\n",
      "Bldg. 4800 - Research Development & Test Facility    1\n",
      "National Scientific Balloon Facility                 1\n",
      "Name: count, Length: 485, dtype: int64\n",
      "Duplicates for column 'FacilityURL':\n",
      "484\n",
      "\n",
      "Value Counts for column 'FacilityURL':\n",
      "Series([], Name: count, dtype: int64)\n",
      "Duplicates for column 'Occupied':\n",
      "426\n",
      "\n",
      "Value Counts for column 'Occupied':\n",
      "Occupied\n",
      "1966.0    42\n",
      "1965.0    31\n",
      "1964.0    26\n",
      "1960.0    21\n",
      "1963.0    18\n",
      "1958.0    16\n",
      "1985.0    16\n",
      "1957.0    13\n",
      "1956.0    13\n",
      "1977.0    12\n",
      "1961.0    12\n",
      "1943.0    11\n",
      "1962.0    10\n",
      "1959.0    10\n",
      "1942.0     9\n",
      "1992.0     9\n",
      "1995.0     8\n",
      "1991.0     8\n",
      "1946.0     7\n",
      "1945.0     7\n",
      "1990.0     7\n",
      "1968.0     7\n",
      "1994.0     6\n",
      "1984.0     6\n",
      "1988.0     5\n",
      "1980.0     5\n",
      "1993.0     4\n",
      "1972.0     4\n",
      "1987.0     3\n",
      "1948.0     3\n",
      "1940.0     3\n",
      "1976.0     3\n",
      "2005.0     2\n",
      "1979.0     2\n",
      "1955.0     2\n",
      "1982.0     2\n",
      "1975.0     2\n",
      "1970.0     2\n",
      "1952.0     2\n",
      "1951.0     2\n",
      "1978.0     2\n",
      "1989.0     2\n",
      "1986.0     2\n",
      "1967.0     2\n",
      "2003.0     1\n",
      "2000.0     1\n",
      "1950.0     1\n",
      "1949.0     1\n",
      "1973.0     1\n",
      "2002.0     1\n",
      "2010.0     1\n",
      "1954.0     1\n",
      "2011.0     1\n",
      "1983.0     1\n",
      "1974.0     1\n",
      "1969.0     1\n",
      "2006.0     1\n",
      "2012.0     1\n",
      "Name: count, dtype: int64\n",
      "Duplicates for column 'Status':\n",
      "480\n",
      "\n",
      "Value Counts for column 'Status':\n",
      "Status\n",
      "Active                  371\n",
      "Inactive                 25\n",
      "Under Rehabilitation      2\n",
      "Under                     1\n",
      "Name: count, dtype: int64\n",
      "Duplicates for column 'URL Link':\n",
      "422\n",
      "\n",
      "Value Counts for column 'URL Link':\n",
      "URL Link\n",
      "http://rockettest.nasa.gov                                                          24\n",
      "http://mafbusiness.msfc.nasa.gov/                                                   17\n",
      "http://www.nasa.gov/centers/wallops                                                 10\n",
      "http://thermo-physics.arc.nasa.gov                                                   9\n",
      "http://etl.jpl.nasa.gov                                                              7\n",
      "                                                                                    ..\n",
      "http://www.nasa.gov/centers/dryden/aircraft/F-15B/index.html                         1\n",
      "http://engineering.larc.nasa.gov/vibration_lab.html                                  1\n",
      "http://facilities.grc.nasa.gov/emi/index.html                                        1\n",
      "http://www.nasa.gov/centers/ames/research/technology-onepagers/eng_eval_lab.html     1\n",
      "http://wacop.wff.nasa.gov/LAAPBDesc.cfm                                              1\n",
      "Name: count, Length: 62, dtype: int64\n",
      "Duplicates for column 'Record Date':\n",
      "430\n",
      "\n",
      "Value Counts for column 'Record Date':\n",
      "Record Date\n",
      "03/01/1996 12:00:00 AM    354\n",
      "11/04/2009 12:00:00 AM     15\n",
      "08/04/2006 12:00:00 AM      8\n",
      "08/11/2006 12:00:00 AM      7\n",
      "02/02/2009 12:00:00 AM      5\n",
      "07/06/2010 12:00:00 AM      5\n",
      "10/07/2009 12:00:00 AM      5\n",
      "04/25/1996 12:00:00 AM      5\n",
      "07/08/2010 12:00:00 AM      5\n",
      "07/15/2010 12:00:00 AM      4\n",
      "04/06/2009 12:00:00 AM      4\n",
      "04/13/2010 12:00:00 AM      4\n",
      "03/05/2015 12:00:00 AM      4\n",
      "05/29/1996 12:00:00 AM      4\n",
      "12/06/2005 12:00:00 AM      3\n",
      "05/01/1996 12:00:00 AM      3\n",
      "02/03/2009 12:00:00 AM      3\n",
      "08/09/2006 12:00:00 AM      3\n",
      "07/07/2010 12:00:00 AM      2\n",
      "12/11/2000 12:00:00 AM      2\n",
      "08/01/2012 12:00:00 AM      2\n",
      "06/15/2015 12:00:00 AM      2\n",
      "06/22/2006 12:00:00 AM      2\n",
      "07/18/2010 12:00:00 AM      2\n",
      "02/09/2009 12:00:00 AM      2\n",
      "05/28/1996 12:00:00 AM      1\n",
      "02/13/2013 12:00:00 AM      1\n",
      "05/11/1998 12:00:00 AM      1\n",
      "07/06/2009 12:00:00 AM      1\n",
      "04/07/2009 12:00:00 AM      1\n",
      "07/22/2013 12:00:00 AM      1\n",
      "06/09/2006 12:00:00 AM      1\n",
      "06/10/1996 12:00:00 AM      1\n",
      "07/16/2010 12:00:00 AM      1\n",
      "09/08/2009 12:00:00 AM      1\n",
      "03/08/2007 12:00:00 AM      1\n",
      "08/10/2006 12:00:00 AM      1\n",
      "07/10/2010 12:00:00 AM      1\n",
      "06/15/2006 12:00:00 AM      1\n",
      "01/29/2009 12:00:00 AM      1\n",
      "08/08/2006 12:00:00 AM      1\n",
      "10/29/2014 12:00:00 AM      1\n",
      "06/05/1996 12:00:00 AM      1\n",
      "05/30/1996 12:00:00 AM      1\n",
      "08/02/2012 12:00:00 AM      1\n",
      "06/11/1996 12:00:00 AM      1\n",
      "07/09/2010 12:00:00 AM      1\n",
      "01/28/2009 12:00:00 AM      1\n",
      "03/25/2013 12:00:00 AM      1\n",
      "05/14/1996 12:00:00 AM      1\n",
      "05/17/1996 12:00:00 AM      1\n",
      "06/03/1996 12:00:00 AM      1\n",
      "09/26/2012 12:00:00 AM      1\n",
      "10/05/2011 12:00:00 AM      1\n",
      "07/17/2010 12:00:00 AM      1\n",
      "Name: count, dtype: int64\n",
      "Duplicates for column 'Last Update':\n",
      "450\n",
      "\n",
      "Value Counts for column 'Last Update':\n",
      "Last Update\n",
      "06/22/2015 12:00:00 AM    84\n",
      "06/02/2014 12:00:00 AM    57\n",
      "03/31/2014 12:00:00 AM    53\n",
      "02/25/2013 12:00:00 AM    36\n",
      "03/04/2015 12:00:00 AM    31\n",
      "04/06/2015 12:00:00 AM    29\n",
      "08/07/2013 12:00:00 AM    27\n",
      "08/16/2013 12:00:00 AM    24\n",
      "05/30/2014 12:00:00 AM    20\n",
      "02/19/2013 12:00:00 AM    19\n",
      "02/13/2013 12:00:00 AM    13\n",
      "08/08/2013 12:00:00 AM    10\n",
      "07/19/2013 12:00:00 AM    10\n",
      "07/22/2013 12:00:00 AM     9\n",
      "08/15/2013 12:00:00 AM     7\n",
      "09/26/2012 12:00:00 AM     6\n",
      "02/15/2013 12:00:00 AM     6\n",
      "03/05/2015 12:00:00 AM     5\n",
      "06/13/2014 12:00:00 AM     4\n",
      "02/20/2015 12:00:00 AM     4\n",
      "06/12/2014 12:00:00 AM     4\n",
      "12/19/2014 12:00:00 AM     3\n",
      "08/02/2012 12:00:00 AM     3\n",
      "07/10/2013 12:00:00 AM     2\n",
      "06/15/2015 12:00:00 AM     2\n",
      "02/26/2015 12:00:00 AM     2\n",
      "12/17/2014 12:00:00 AM     2\n",
      "10/29/2014 12:00:00 AM     1\n",
      "01/28/2013 12:00:00 AM     1\n",
      "08/19/2013 12:00:00 AM     1\n",
      "08/01/2012 12:00:00 AM     1\n",
      "09/10/2014 12:00:00 AM     1\n",
      "07/11/2013 12:00:00 AM     1\n",
      "11/22/2013 12:00:00 AM     1\n",
      "Name: count, dtype: int64\n",
      "Duplicates for column 'Country':\n",
      "484\n",
      "\n",
      "Value Counts for column 'Country':\n",
      "Country\n",
      "US    485\n",
      "Name: count, dtype: int64\n",
      "Duplicates for column 'Contact':\n",
      "472\n",
      "\n",
      "Value Counts for column 'Contact':\n",
      "Contact\n",
      "Pam Caruso                        136\n",
      "Sheryl Chaffee                     84\n",
      "Sherry Johnson                     50\n",
      "Linda C. Elonen-Wright             42\n",
      "Gary Gray                          37\n",
      "Barry Green                        32\n",
      "Robert Bruce                       29\n",
      "Hsien (Shen) Yen                   23\n",
      "Ernest Graham                      17\n",
      "Rocci Caringello                   12\n",
      "Scott H. Schaire                   10\n",
      "Facilities Utilization Officer      7\n",
      "Charles Noel                        6\n",
      "Name: count, dtype: int64\n",
      "Duplicates for column 'Phone':\n",
      "472\n",
      "\n",
      "Value Counts for column 'Phone':\n",
      "Phone\n",
      "256-544-7795    136\n",
      "321-867-8047     84\n",
      "757.864-3848     50\n",
      "216-433-9370     42\n",
      "818.354.0701     37\n",
      "301 286 2520     32\n",
      "228-688-1646     29\n",
      "202 358 4721     23\n",
      "504.257-2619     17\n",
      "650 603-9506     12\n",
      "757-824-1120     10\n",
      "661-276-2585      7\n",
      "281.483.3219      6\n",
      "Name: count, dtype: int64\n",
      "Duplicates for column 'Location':\n",
      "472\n",
      "\n",
      "Value Counts for column 'Location':\n",
      "Location\n",
      "35812(34.729538, -86.585283)         136\n",
      "32899(28.538331, -81.378879)          84\n",
      "23681-2199(37.08681, -76.376649)      50\n",
      "44135(41.430364, -81.808561)          42\n",
      "91109(34.178124, -118.150662)         37\n",
      "20771(38.99538, -76.853161)           32\n",
      "39529-6000(30.385948, -89.604486)     29\n",
      "20546(38.883239, -77.016473)          23\n",
      "70189(29.950621, -90.074948)          17\n",
      "94035(37.41412, -122.052585)          12\n",
      "23337-5099(37.911289, -75.469622)     10\n",
      "93523(35.000989, -117.888837)          7\n",
      "77058(29.559177, -95.097897)           6\n",
      "Name: count, dtype: int64\n",
      "Duplicates for column 'City':\n",
      "472\n",
      "\n",
      "Value Counts for column 'City':\n",
      "City\n",
      "Huntsville              136\n",
      "Kennedy Space Center     84\n",
      "Hampton                  50\n",
      "Cleveland                42\n",
      "PASADENA                 37\n",
      "Greenbelt                32\n",
      "Stennis Space Center     29\n",
      "Washington               23\n",
      "New Orleans              17\n",
      "Moffett Field            12\n",
      "Wallops Island           10\n",
      "Edwards                   7\n",
      "Houston                   6\n",
      "Name: count, dtype: int64\n",
      "Duplicates for column 'State':\n",
      "475\n",
      "\n",
      "Value Counts for column 'State':\n",
      "State\n",
      "AL    136\n",
      "FL     84\n",
      "VA     60\n",
      "CA     56\n",
      "OH     42\n",
      "MD     32\n",
      "MS     29\n",
      "DC     23\n",
      "LA     17\n",
      "TX      6\n",
      "Name: count, dtype: int64\n",
      "Duplicates for column 'Zipcode':\n",
      "472\n",
      "\n",
      "Value Counts for column 'Zipcode':\n",
      "Zipcode\n",
      "35812         136\n",
      "32899          84\n",
      "23681-2199     50\n",
      "44135          42\n",
      "91109          37\n",
      "20771          32\n",
      "39529-6000     29\n",
      "20546          23\n",
      "70189          17\n",
      "94035          12\n",
      "23337-5099     10\n",
      "93523           7\n",
      "77058           6\n",
      "Name: count, dtype: int64\n"
     ]
    }
   ],
   "source": [
    "analysis.initial()"
   ]
  },
  {
   "cell_type": "code",
   "execution_count": null,
   "metadata": {
    "collapsed": false
   },
   "outputs": [],
   "source": [
    "# Status is Active & URL exists & Occupied\n",
    "working_df = nasadf[ (nasadf[\"Status\"] == \"Active\") &\n",
    "    (pd.notnull(nasadf[\"URL Link\"])) &\n",
    "    (pd.notnull(nasadf[\"Occupied\"])) \n",
    "    ]"
   ]
  },
  {
   "cell_type": "code",
   "execution_count": null,
   "metadata": {},
   "outputs": [],
   "source": [
    "# Unpack/Extract Latitude and Longitude from the Location column\n",
    "regex_pattern = r\"(?P<Latitude>-?\\d+\\.\\d+), (?P<Longitude>-?\\d+\\.\\d+)\\)\"\n",
    "df_unpacked = working_df[\"Location\"].str.extract(regex_pattern)\n",
    "\n",
    "# Merge the unpacked columns back in the main dataframe\n",
    "nasadf = pd.concat([nasadf, df_unpacked], axis=1)"
   ]
  },
  {
   "cell_type": "code",
   "execution_count": null,
   "metadata": {},
   "outputs": [],
   "source": [
    "# Define example central point between Colorado Springs and Kansas City\n",
    "CENTER_LOC  = ( 39.0119, -98.4842 )\n",
    "MAP = Map(basemap=basemaps.OpenTopoMap, center=CENTER_LOC, zoom=3)\n",
    "MAP.add_layer(Marker(location=CENTER_LOC))\n",
    "display(MAP)"
   ]
  },
  {
   "cell_type": "code",
   "execution_count": null,
   "metadata": {},
   "outputs": [],
   "source": [
    "def draw_marker_on_map( amap, location ):\n",
    "    amap.add_layer(Marker(location=location))"
   ]
  },
  {
   "cell_type": "code",
   "execution_count": null,
   "metadata": {},
   "outputs": [],
   "source": [
    "# apply draw circle for each NASA facility location\n",
    "nasadf.apply(lambda loc: draw_marker_on_map(MAP, (loc['Latitude'], loc['Longitude'])), axis=1)"
   ]
  },
  {
   "cell_type": "code",
   "execution_count": null,
   "metadata": {},
   "outputs": [],
   "source": [
    "nasadf"
   ]
  },
  {
   "cell_type": "code",
   "execution_count": null,
   "metadata": {},
   "outputs": [],
   "source": [
    "center_counts = nasadf.groupby('Center').size()\n",
    "center_counts"
   ]
  },
  {
   "cell_type": "code",
   "execution_count": null,
   "outputs": [],
   "source": [
    "center_counts.plot(kind='bar', figsize=(10, 6))\n",
    "plt.title('Number of Facilities by Center')\n",
    "plt.ylabel('Number of Facilities')\n",
    "plt.xlabel('Center')\n",
    "plt.xticks(rotation=45)\n",
    "plt.tight_layout()\n",
    "plt.show()"
   ],
   "metadata": {
    "collapsed": false
   }
  },
  {
   "cell_type": "code",
   "execution_count": null,
   "outputs": [],
   "source": [
    "nasadf.drop(\"Center Search Status\", axis=1, inplace=True)"
   ],
   "metadata": {
    "collapsed": false
   }
  },
  {
   "cell_type": "code",
   "execution_count": null,
   "outputs": [],
   "source": [
    "nasadf"
   ],
   "metadata": {
    "collapsed": false
   }
  },
  {
   "cell_type": "code",
   "execution_count": null,
   "outputs": [],
   "source": [
    "nasadf['Status'].isna().sum()"
   ],
   "metadata": {
    "collapsed": false
   }
  },
  {
   "cell_type": "code",
   "execution_count": null,
   "outputs": [],
   "source": [
    "nasadf['Status'].fillna('Unknown', inplace=True)"
   ],
   "metadata": {
    "collapsed": false
   }
  },
  {
   "cell_type": "code",
   "execution_count": null,
   "outputs": [],
   "source": [
    "status_counts = nasadf['Status'].value_counts()"
   ],
   "metadata": {
    "collapsed": false
   }
  },
  {
   "cell_type": "code",
   "execution_count": null,
   "outputs": [],
   "source": [
    "# Create horizontal bar chart\n",
    "status_counts.plot(kind='barh')\n",
    "plt.title('Distribution of Facility Status')\n",
    "plt.xlabel('Number of Facilities')\n",
    "plt.show()"
   ],
   "metadata": {
    "collapsed": false
   }
  },
  {
   "cell_type": "code",
   "execution_count": null,
   "outputs": [],
   "source": [
    "nasadf['Record Date'].value_counts()"
   ],
   "metadata": {
    "collapsed": false
   }
  },
  {
   "cell_type": "code",
   "execution_count": null,
   "outputs": [],
   "source": [
    "# convert date columns\n",
    "nasadf['Record Date'] = pd.to_datetime(nasadf['Record Date'], format='%m/%d/%Y %I:%M:%S %p', errors='coerce')\n",
    "nasadf['Last Update'] = pd.to_datetime(nasadf['Last Update'], format='%m/%d/%Y %I:%M:%S %p', errors='coerce')"
   ],
   "metadata": {
    "collapsed": false
   }
  },
  {
   "cell_type": "code",
   "execution_count": null,
   "outputs": [],
   "source": [
    "nasadf = nasadf.sort_values(by='Record Date')"
   ],
   "metadata": {
    "collapsed": false
   }
  },
  {
   "cell_type": "code",
   "execution_count": null,
   "outputs": [],
   "source": [
    "nasadf['Year'] = nasadf['Record Date'].dt.year\n",
    "# Group by Year and count the number of facilities\n",
    "yearly_counts = nasadf.groupby('Year').size()\n",
    "yearly_counts.index"
   ],
   "metadata": {
    "collapsed": false
   }
  },
  {
   "cell_type": "code",
   "execution_count": null,
   "outputs": [],
   "source": [
    "# Setting x-ticks to force integer values\n",
    "yearly_counts.index = yearly_counts.index.astype(int)\n",
    "\n",
    "# Visualization\n",
    "plt.figure(figsize=(11, 5))\n",
    "# s adjusts the size of the dots\n",
    "plt.scatter(yearly_counts.index, yearly_counts.values, color='blue', s=100)  \n",
    "plt.xlabel('Year')\n",
    "plt.ylabel('Number of Facilities')\n",
    "plt.title('Number of Facilities Recorded Each Year')\n",
    "\n",
    "# ensure that only integers are used for the x-ticks.\n",
    "# https://matplotlib.org/stable/gallery/ticks/tick_labels_from_values.html#setting-tick-labels-from-a-list-of-values\n",
    "ax = plt.gca()\n",
    "ax.xaxis.set_major_locator(MaxNLocator(integer=True))\n",
    "\n",
    "plt.grid(True, which='both', linestyle='--', linewidth=0.5)\n",
    "plt.tight_layout()\n",
    "plt.show()"
   ],
   "metadata": {
    "collapsed": false
   }
  },
  {
   "cell_type": "code",
   "execution_count": null,
   "outputs": [],
   "source": [
    "state_counts = nasadf['State'].value_counts()"
   ],
   "metadata": {
    "collapsed": false
   }
  },
  {
   "cell_type": "code",
   "execution_count": null,
   "outputs": [],
   "source": [
    "state_counts"
   ],
   "metadata": {
    "collapsed": false
   }
  },
  {
   "cell_type": "code",
   "execution_count": null,
   "outputs": [],
   "source": [
    "plt.figure(figsize=(15, 8))\n",
    "sns.barplot(x=state_counts.index, y=state_counts.values, palette='viridis')\n",
    "plt.xticks(rotation=45)\n",
    "plt.title('Number of Facilities in Each State')\n",
    "plt.ylabel('Number of Facilities')\n",
    "plt.xlabel('State')\n",
    "plt.tight_layout()\n",
    "plt.show()"
   ],
   "metadata": {
    "collapsed": false
   }
  },
  {
   "cell_type": "code",
   "execution_count": null,
   "outputs": [],
   "source": [
    "# Group by 'Contact' and count the number of facilities they're linked to\n",
    "contact_counts = nasadf['Contact'].value_counts()"
   ],
   "metadata": {
    "collapsed": false
   }
  },
  {
   "cell_type": "code",
   "execution_count": null,
   "outputs": [],
   "source": [
    "contact_counts"
   ],
   "metadata": {
    "collapsed": false
   }
  },
  {
   "cell_type": "code",
   "execution_count": null,
   "outputs": [],
   "source": [
    "plt.figure(figsize=(15, 8))\n",
    "sns.barplot(y=contact_counts.index, x=contact_counts.values, orient='h')\n",
    "plt.xlabel('Number of Facilities')\n",
    "plt.ylabel('Contact')\n",
    "plt.title('Number of Facilities per Contact')\n",
    "plt.show()"
   ],
   "metadata": {
    "collapsed": false
   }
  },
  {
   "cell_type": "code",
   "execution_count": null,
   "outputs": [],
   "source": [
    "# Calculate mean and median establishment year for 'Active' facilities\n",
    "active_mean_year = nasadf[nasadf['Status'] == 'Active']['Occupied'].mean()\n",
    "active_median_year = nasadf[nasadf['Status'] == 'Active']['Occupied'].median()\n",
    "\n",
    "# Calculate mean and median establishment year for 'Inactive' facilities\n",
    "inactive_mean_year = nasadf[nasadf['Status'] == 'Inactive']['Occupied'].mean()\n",
    "inactive_median_year = nasadf[nasadf['Status'] == 'Inactive']['Occupied'].median()\n",
    "\n",
    "print(\"For Active Facilities:\")\n",
    "print(f\"Mean Establishment Year: {active_mean_year:.2f}\")\n",
    "print(f\"Median Establishment Year: {active_median_year}\")\n",
    "\n",
    "print(\"\\nFor Inactive Facilities:\")\n",
    "print(f\"Mean Establishment Year: {inactive_mean_year:.2f}\")\n",
    "print(f\"Median Establishment Year: {inactive_median_year}\")"
   ],
   "metadata": {
    "collapsed": false
   }
  },
  {
   "cell_type": "code",
   "execution_count": null,
   "outputs": [],
   "source": [
    "# Filter out rows with NaN in 'Occupied' column\n",
    "nasadf_filtered = nasadf[nasadf['Occupied'].notna()]\n",
    "\n",
    "# Convert 'Occupied' to integer\n",
    "nasadf_filtered['Occupied'] = nasadf_filtered['Occupied'].astype(int)\n",
    "\n",
    "# Create a boxplot\n",
    "plt.figure(figsize=(10, 6))\n",
    "sns.boxplot(data=nasadf_filtered, x='Status', y='Occupied')\n",
    "plt.title(\"Distribution of Establishment Years by Status\")\n",
    "plt.ylabel(\"Establishment Year\")\n",
    "plt.xlabel(\"Facility Status\")\n",
    "plt.show()"
   ],
   "metadata": {
    "collapsed": false
   }
  },
  {
   "cell_type": "code",
   "execution_count": null,
   "outputs": [],
   "source": [
    "# Determine which centers have the oldest average facility age\n",
    "# Calculate the current year\n",
    "current_year = datetime.datetime.now().year\n",
    "\n",
    "# Calculate age for each facility\n",
    "nasadf['Age'] = current_year - nasadf['Occupied']\n",
    "\n",
    "# Group by center and calculate the average age\n",
    "average_ages = nasadf.groupby('Center')['Age'].quantile('.50').sort_values(ascending=False)\n",
    "print(average_ages.dropna())"
   ],
   "metadata": {
    "collapsed": false
   }
  },
  {
   "cell_type": "code",
   "execution_count": null,
   "outputs": [],
   "source": [],
   "metadata": {
    "collapsed": false
   }
  }
 ],
 "metadata": {
  "kernelspec": {
   "display_name": "Python 3 (ipykernel)",
   "language": "python",
   "name": "python3"
  },
  "language_info": {
   "codemirror_mode": {
    "name": "ipython",
    "version": 3
   },
   "file_extension": ".py",
   "mimetype": "text/x-python",
   "name": "python",
   "nbconvert_exporter": "python",
   "pygments_lexer": "ipython3",
   "version": "3.10.0"
  }
 },
 "nbformat": 4,
 "nbformat_minor": 4
}
